{
  "nbformat": 4,
  "nbformat_minor": 0,
  "metadata": {
    "colab": {
      "name": "Dog_cat_dataset.ipynb",
      "provenance": [],
      "collapsed_sections": [],
      "authorship_tag": "ABX9TyPkpfBaDlJGO73B7/Jcjwyv",
      "include_colab_link": true
    },
    "kernelspec": {
      "name": "python3",
      "display_name": "Python 3"
    },
    "accelerator": "GPU"
  },
  "cells": [
    {
      "cell_type": "markdown",
      "metadata": {
        "id": "view-in-github",
        "colab_type": "text"
      },
      "source": [
        "<a href=\"https://colab.research.google.com/github/sohaibhassan57/Deep_learning_PIAIC_2020__JUL/blob/master/Dog_cat_dataset_training.ipynb\" target=\"_parent\"><img src=\"https://colab.research.google.com/assets/colab-badge.svg\" alt=\"Open In Colab\"/></a>"
      ]
    },
    {
      "cell_type": "code",
      "metadata": {
        "id": "gwzzc8PvnnaV",
        "colab_type": "code",
        "colab": {}
      },
      "source": [
        "import tensorflow as tf"
      ],
      "execution_count": 17,
      "outputs": []
    },
    {
      "cell_type": "code",
      "metadata": {
        "id": "hwfgkF7qnsPS",
        "colab_type": "code",
        "colab": {
          "base_uri": "https://localhost:8080/",
          "height": 35
        },
        "outputId": "6d03a7bf-9362-47d7-bd29-d6a5ee9dbd29"
      },
      "source": [
        "print(tf.__version__)"
      ],
      "execution_count": null,
      "outputs": [
        {
          "output_type": "stream",
          "text": [
            "2.2.0\n"
          ],
          "name": "stdout"
        }
      ]
    },
    {
      "cell_type": "code",
      "metadata": {
        "id": "9Dks-sQglB76",
        "colab_type": "code",
        "colab": {
          "base_uri": "https://localhost:8080/",
          "height": 55
        },
        "outputId": "efe52071-c47d-4f46-a7cd-68f94596c8e8"
      },
      "source": [
        "from google.colab import drive\n",
        "drive.mount('/content/drive')"
      ],
      "execution_count": null,
      "outputs": [
        {
          "output_type": "stream",
          "text": [
            "Drive already mounted at /content/drive; to attempt to forcibly remount, call drive.mount(\"/content/drive\", force_remount=True).\n"
          ],
          "name": "stdout"
        }
      ]
    },
    {
      "cell_type": "markdown",
      "metadata": {
        "id": "q9Xoz8CpaIXy",
        "colab_type": "text"
      },
      "source": [
        "*Computer Vision*\n"
      ]
    },
    {
      "cell_type": "code",
      "metadata": {
        "id": "pD8t3GUFaFqZ",
        "colab_type": "code",
        "colab": {}
      },
      "source": [
        "from tensorflow.keras.preprocessing.image import ImageDataGenerator"
      ],
      "execution_count": null,
      "outputs": []
    },
    {
      "cell_type": "code",
      "metadata": {
        "id": "Zq_qkdL7k_Ni",
        "colab_type": "code",
        "colab": {}
      },
      "source": [
        "train_data_gen = ImageDataGenerator(rescale=1.0/255)\n",
        "test_data_gen=ImageDataGenerator(rescale=1.0/255)\n"
      ],
      "execution_count": null,
      "outputs": []
    },
    {
      "cell_type": "code",
      "metadata": {
        "id": "7d3KK24jlRTu",
        "colab_type": "code",
        "colab": {
          "base_uri": "https://localhost:8080/",
          "height": 54
        },
        "outputId": "da88a574-5009-459f-cf71-dcd267be8589"
      },
      "source": [
        "train_data = train_data_gen.flow_from_directory(\n",
        "    \"/content/drive/My Drive/new_small_dataset/train\",\n",
        "    target_size=(150,150),\n",
        "    batch_size=20,\n",
        "    class_mode='categorical'\n",
        ")\n",
        "\n",
        "test_data=test_data_gen.flow_from_directory(\"/content/drive/My Drive/new_small_dataset/test\",target_size=(150,150),\n",
        "                                             batch_size=20,class_mode=\"categorical\")\n"
      ],
      "execution_count": null,
      "outputs": [
        {
          "output_type": "stream",
          "text": [
            "Found 200 images belonging to 2 classes.\n",
            "Found 40 images belonging to 2 classes.\n"
          ],
          "name": "stdout"
        }
      ]
    },
    {
      "cell_type": "code",
      "metadata": {
        "id": "hT3dCNQHl4Zx",
        "colab_type": "code",
        "colab": {
          "base_uri": "https://localhost:8080/",
          "height": 35
        },
        "outputId": "bd6ae492-8b08-487b-a657-dd0d2c1bfcc9"
      },
      "source": [
        "train_data.class_indices"
      ],
      "execution_count": null,
      "outputs": [
        {
          "output_type": "execute_result",
          "data": {
            "text/plain": [
              "{'cat': 0, 'dog': 1}"
            ]
          },
          "metadata": {
            "tags": []
          },
          "execution_count": 7
        }
      ]
    },
    {
      "cell_type": "code",
      "metadata": {
        "id": "P7aFo86ouqzA",
        "colab_type": "code",
        "colab": {
          "base_uri": "https://localhost:8080/",
          "height": 35
        },
        "outputId": "36b46b80-09e8-4f5f-846e-c8e5af985d1a"
      },
      "source": [
        "test_data.class_indices"
      ],
      "execution_count": null,
      "outputs": [
        {
          "output_type": "execute_result",
          "data": {
            "text/plain": [
              "{'cat': 0, 'dog': 1}"
            ]
          },
          "metadata": {
            "tags": []
          },
          "execution_count": 10
        }
      ]
    },
    {
      "cell_type": "code",
      "metadata": {
        "id": "C4Ygenm4oT4L",
        "colab_type": "code",
        "colab": {}
      },
      "source": [
        "from tensorflow.keras.models import Sequential\n",
        "from tensorflow.keras.layers import Dense, Flatten\n",
        "from tensorflow.keras.optimizers import Adam, SGD, RMSprop"
      ],
      "execution_count": null,
      "outputs": []
    },
    {
      "cell_type": "code",
      "metadata": {
        "id": "EpcVsS55oW4-",
        "colab_type": "code",
        "colab": {}
      },
      "source": [
        "model1 = Sequential()\n",
        "model1.add(Flatten())\n",
        "model1.add(Dense(128, activation='relu'))\n",
        "model1.add(Dense(2, activation='softmax'))"
      ],
      "execution_count": null,
      "outputs": []
    },
    {
      "cell_type": "code",
      "metadata": {
        "id": "-pKJ5cqToZZG",
        "colab_type": "code",
        "colab": {}
      },
      "source": [
        "model1.compile(loss='categorical_crossentropy',\n",
        "              optimizer='rmsprop',\n",
        "              metrics=['accuracy'])"
      ],
      "execution_count": null,
      "outputs": []
    },
    {
      "cell_type": "code",
      "metadata": {
        "id": "_78DhfqpobaA",
        "colab_type": "code",
        "colab": {
          "base_uri": "https://localhost:8080/",
          "height": 1000
        },
        "outputId": "1a5bbe51-a4e1-4494-a2f8-e06939964bd9"
      },
      "source": [
        "hist = model1.fit(train_data,epochs=50)"
      ],
      "execution_count": null,
      "outputs": [
        {
          "output_type": "stream",
          "text": [
            "Epoch 1/50\n",
            "10/10 [==============================] - 48s 5s/step - loss: 68.9345 - accuracy: 0.5100\n",
            "Epoch 2/50\n",
            "10/10 [==============================] - 1s 82ms/step - loss: 12.1352 - accuracy: 0.6100\n",
            "Epoch 3/50\n",
            "10/10 [==============================] - 1s 81ms/step - loss: 7.2376 - accuracy: 0.4950\n",
            "Epoch 4/50\n",
            "10/10 [==============================] - 1s 80ms/step - loss: 6.6105 - accuracy: 0.4850\n",
            "Epoch 5/50\n",
            "10/10 [==============================] - 1s 79ms/step - loss: 4.5218 - accuracy: 0.5300\n",
            "Epoch 6/50\n",
            "10/10 [==============================] - 1s 81ms/step - loss: 4.7198 - accuracy: 0.5450\n",
            "Epoch 7/50\n",
            "10/10 [==============================] - 1s 80ms/step - loss: 3.4187 - accuracy: 0.5400\n",
            "Epoch 8/50\n",
            "10/10 [==============================] - 1s 82ms/step - loss: 3.2964 - accuracy: 0.6000\n",
            "Epoch 9/50\n",
            "10/10 [==============================] - 1s 85ms/step - loss: 4.7516 - accuracy: 0.4900\n",
            "Epoch 10/50\n",
            "10/10 [==============================] - 1s 83ms/step - loss: 3.3515 - accuracy: 0.5650\n",
            "Epoch 11/50\n",
            "10/10 [==============================] - 1s 84ms/step - loss: 3.0269 - accuracy: 0.5850\n",
            "Epoch 12/50\n",
            "10/10 [==============================] - 1s 82ms/step - loss: 2.9859 - accuracy: 0.5350\n",
            "Epoch 13/50\n",
            "10/10 [==============================] - 1s 82ms/step - loss: 2.8360 - accuracy: 0.5900\n",
            "Epoch 14/50\n",
            "10/10 [==============================] - 1s 83ms/step - loss: 1.6289 - accuracy: 0.6950\n",
            "Epoch 15/50\n",
            "10/10 [==============================] - 1s 84ms/step - loss: 3.3487 - accuracy: 0.5450\n",
            "Epoch 16/50\n",
            "10/10 [==============================] - 1s 81ms/step - loss: 2.0754 - accuracy: 0.6350\n",
            "Epoch 17/50\n",
            "10/10 [==============================] - 1s 86ms/step - loss: 1.9127 - accuracy: 0.6650\n",
            "Epoch 18/50\n",
            "10/10 [==============================] - 1s 81ms/step - loss: 2.8038 - accuracy: 0.5500\n",
            "Epoch 19/50\n",
            "10/10 [==============================] - 1s 85ms/step - loss: 2.1884 - accuracy: 0.6450\n",
            "Epoch 20/50\n",
            "10/10 [==============================] - 1s 84ms/step - loss: 1.4904 - accuracy: 0.7000\n",
            "Epoch 21/50\n",
            "10/10 [==============================] - 1s 83ms/step - loss: 1.4680 - accuracy: 0.6600\n",
            "Epoch 22/50\n",
            "10/10 [==============================] - 1s 85ms/step - loss: 2.7272 - accuracy: 0.5550\n",
            "Epoch 23/50\n",
            "10/10 [==============================] - 1s 85ms/step - loss: 1.2662 - accuracy: 0.7000\n",
            "Epoch 24/50\n",
            "10/10 [==============================] - 1s 83ms/step - loss: 1.7940 - accuracy: 0.6300\n",
            "Epoch 25/50\n",
            "10/10 [==============================] - 1s 85ms/step - loss: 2.5348 - accuracy: 0.5750\n",
            "Epoch 26/50\n",
            "10/10 [==============================] - 1s 82ms/step - loss: 1.5368 - accuracy: 0.5950\n",
            "Epoch 27/50\n",
            "10/10 [==============================] - 1s 82ms/step - loss: 2.0004 - accuracy: 0.5600\n",
            "Epoch 28/50\n",
            "10/10 [==============================] - 1s 79ms/step - loss: 0.9966 - accuracy: 0.7200\n",
            "Epoch 29/50\n",
            "10/10 [==============================] - 1s 79ms/step - loss: 1.6097 - accuracy: 0.6350\n",
            "Epoch 30/50\n",
            "10/10 [==============================] - 1s 81ms/step - loss: 1.4834 - accuracy: 0.6000\n",
            "Epoch 31/50\n",
            "10/10 [==============================] - 1s 83ms/step - loss: 1.0888 - accuracy: 0.7300\n",
            "Epoch 32/50\n",
            "10/10 [==============================] - 1s 84ms/step - loss: 1.3754 - accuracy: 0.6250\n",
            "Epoch 33/50\n",
            "10/10 [==============================] - 1s 82ms/step - loss: 0.9666 - accuracy: 0.7500\n",
            "Epoch 34/50\n",
            "10/10 [==============================] - 1s 80ms/step - loss: 1.2073 - accuracy: 0.6950\n",
            "Epoch 35/50\n",
            "10/10 [==============================] - 1s 82ms/step - loss: 1.4884 - accuracy: 0.6100\n",
            "Epoch 36/50\n",
            "10/10 [==============================] - 1s 83ms/step - loss: 1.3743 - accuracy: 0.6050\n",
            "Epoch 37/50\n",
            "10/10 [==============================] - 1s 81ms/step - loss: 1.0692 - accuracy: 0.7000\n",
            "Epoch 38/50\n",
            "10/10 [==============================] - 1s 82ms/step - loss: 0.8910 - accuracy: 0.7000\n",
            "Epoch 39/50\n",
            "10/10 [==============================] - 1s 80ms/step - loss: 0.6916 - accuracy: 0.7500\n",
            "Epoch 40/50\n",
            "10/10 [==============================] - 1s 80ms/step - loss: 1.1491 - accuracy: 0.6850\n",
            "Epoch 41/50\n",
            "10/10 [==============================] - 1s 81ms/step - loss: 0.8589 - accuracy: 0.6850\n",
            "Epoch 42/50\n",
            "10/10 [==============================] - 1s 90ms/step - loss: 0.7382 - accuracy: 0.7600\n",
            "Epoch 43/50\n",
            "10/10 [==============================] - 1s 81ms/step - loss: 0.5799 - accuracy: 0.8250\n",
            "Epoch 44/50\n",
            "10/10 [==============================] - 1s 80ms/step - loss: 0.7683 - accuracy: 0.8150\n",
            "Epoch 45/50\n",
            "10/10 [==============================] - 1s 83ms/step - loss: 0.9272 - accuracy: 0.7250\n",
            "Epoch 46/50\n",
            "10/10 [==============================] - 1s 82ms/step - loss: 0.5641 - accuracy: 0.7350\n",
            "Epoch 47/50\n",
            "10/10 [==============================] - 1s 82ms/step - loss: 0.8218 - accuracy: 0.6650\n",
            "Epoch 48/50\n",
            "10/10 [==============================] - 1s 82ms/step - loss: 0.6801 - accuracy: 0.6950\n",
            "Epoch 49/50\n",
            "10/10 [==============================] - 1s 83ms/step - loss: 0.4066 - accuracy: 0.8200\n",
            "Epoch 50/50\n",
            "10/10 [==============================] - 1s 81ms/step - loss: 0.9663 - accuracy: 0.6550\n"
          ],
          "name": "stdout"
        }
      ]
    },
    {
      "cell_type": "code",
      "metadata": {
        "id": "wni04UC7ohBS",
        "colab_type": "code",
        "colab": {
          "base_uri": "https://localhost:8080/",
          "height": 35
        },
        "outputId": "5384c31a-8c94-4da9-ebaf-8c35a0edba3b"
      },
      "source": [
        ""
      ],
      "execution_count": null,
      "outputs": [
        {
          "output_type": "stream",
          "text": [
            "Found 6 images belonging to 2 classes.\n"
          ],
          "name": "stdout"
        }
      ]
    },
    {
      "cell_type": "code",
      "metadata": {
        "id": "A62G3MQa5CA5",
        "colab_type": "code",
        "colab": {}
      },
      "source": [
        "Y = model1.predict(test_data)\n"
      ],
      "execution_count": null,
      "outputs": []
    },
    {
      "cell_type": "code",
      "metadata": {
        "id": "ROsKKY-u5Jvu",
        "colab_type": "code",
        "colab": {
          "base_uri": "https://localhost:8080/",
          "height": 752
        },
        "outputId": "393bbd35-cb7e-48dd-f015-8b4fde972e77"
      },
      "source": [
        "Y"
      ],
      "execution_count": 18,
      "outputs": [
        {
          "output_type": "execute_result",
          "data": {
            "text/plain": [
              "array([[9.8909330e-01, 1.0906740e-02],\n",
              "       [9.8614675e-01, 1.3853207e-02],\n",
              "       [3.6356679e-01, 6.3643324e-01],\n",
              "       [7.9640305e-01, 2.0359696e-01],\n",
              "       [9.5367181e-01, 4.6328153e-02],\n",
              "       [9.5992500e-01, 4.0074937e-02],\n",
              "       [6.3260823e-01, 3.6739171e-01],\n",
              "       [2.7122217e-01, 7.2877789e-01],\n",
              "       [9.7825485e-01, 2.1745155e-02],\n",
              "       [9.9207073e-01, 7.9292916e-03],\n",
              "       [9.9996531e-01, 3.4713052e-05],\n",
              "       [8.1823897e-01, 1.8176104e-01],\n",
              "       [9.7268730e-01, 2.7312683e-02],\n",
              "       [9.7519398e-01, 2.4806038e-02],\n",
              "       [9.9507362e-01, 4.9264012e-03],\n",
              "       [8.8588268e-01, 1.1411737e-01],\n",
              "       [9.8313808e-01, 1.6861917e-02],\n",
              "       [9.7637886e-01, 2.3621164e-02],\n",
              "       [9.5653224e-01, 4.3467708e-02],\n",
              "       [9.5264101e-01, 4.7359020e-02],\n",
              "       [7.7691323e-01, 2.2308676e-01],\n",
              "       [8.7780774e-01, 1.2219233e-01],\n",
              "       [3.8636717e-01, 6.1363280e-01],\n",
              "       [9.9093199e-01, 9.0679675e-03],\n",
              "       [1.9359118e-01, 8.0640882e-01],\n",
              "       [5.7600868e-01, 4.2399129e-01],\n",
              "       [9.9264163e-01, 7.3583047e-03],\n",
              "       [9.9371630e-01, 6.2837061e-03],\n",
              "       [9.9975532e-01, 2.4468917e-04],\n",
              "       [9.9906975e-01, 9.3024690e-04],\n",
              "       [9.8102647e-01, 1.8973604e-02],\n",
              "       [4.0822965e-01, 5.9177041e-01],\n",
              "       [8.9596975e-01, 1.0403032e-01],\n",
              "       [9.0030915e-01, 9.9690847e-02],\n",
              "       [5.0161898e-01, 4.9838102e-01],\n",
              "       [9.5518297e-01, 4.4817027e-02],\n",
              "       [7.0251560e-01, 2.9748437e-01],\n",
              "       [4.4432110e-01, 5.5567890e-01],\n",
              "       [9.9325669e-01, 6.7433226e-03],\n",
              "       [9.9378729e-01, 6.2127132e-03]], dtype=float32)"
            ]
          },
          "metadata": {
            "tags": []
          },
          "execution_count": 18
        }
      ]
    },
    {
      "cell_type": "code",
      "metadata": {
        "id": "V5VNTp5c5MYc",
        "colab_type": "code",
        "colab": {
          "base_uri": "https://localhost:8080/",
          "height": 35
        },
        "outputId": "61624fcb-e137-4481-ebd1-3c26d540b687"
      },
      "source": [
        "len(Y)"
      ],
      "execution_count": 19,
      "outputs": [
        {
          "output_type": "execute_result",
          "data": {
            "text/plain": [
              "40"
            ]
          },
          "metadata": {
            "tags": []
          },
          "execution_count": 19
        }
      ]
    },
    {
      "cell_type": "code",
      "metadata": {
        "id": "NzmiQWcz5QiP",
        "colab_type": "code",
        "colab": {
          "base_uri": "https://localhost:8080/",
          "height": 35
        },
        "outputId": "7d3ff74c-ebf5-4e6d-a184-64ef023df21e"
      },
      "source": [
        "from tensorflow.keras.preprocessing import image\n",
        "import numpy as np\n",
        "img = image.load_img(\"/content/drive/My Drive/new_small_dataset/test/cat/cat.50.jpg\", target_size=(150,150))\n",
        "x=image.img_to_array(img) / 255\n",
        "x = x.reshape(1,-1)\n",
        "model1.predict(x)"
      ],
      "execution_count": 20,
      "outputs": [
        {
          "output_type": "execute_result",
          "data": {
            "text/plain": [
              "array([[0.877808  , 0.12219204]], dtype=float32)"
            ]
          },
          "metadata": {
            "tags": []
          },
          "execution_count": 20
        }
      ]
    },
    {
      "cell_type": "code",
      "metadata": {
        "id": "E0DW33EH5mHo",
        "colab_type": "code",
        "colab": {}
      },
      "source": [
        ""
      ],
      "execution_count": null,
      "outputs": []
    },
    {
      "cell_type": "code",
      "metadata": {
        "id": "4ceVqcMpFkVa",
        "colab_type": "code",
        "colab": {
          "base_uri": "https://localhost:8080/",
          "height": 54
        },
        "outputId": "c8b06721-f60e-4a67-c45f-b8e75fe46755"
      },
      "source": [
        "labels=[\"cat\",\"dog\"]\n",
        "array=model1.predict(x)\n",
        "arr=array[0].tolist()\n",
        "num=arr.index(max(arr))\n",
        "print(\"prediction is\\\"\",labels[num],\"\\\"\")\n",
        "print(\"Probability\",max(arr))\n"
      ],
      "execution_count": 22,
      "outputs": [
        {
          "output_type": "stream",
          "text": [
            "prediction is\" cat \"\n",
            "Probability 0.8778079748153687\n"
          ],
          "name": "stdout"
        }
      ]
    },
    {
      "cell_type": "code",
      "metadata": {
        "id": "kgdTaq-cGlhP",
        "colab_type": "code",
        "colab": {
          "base_uri": "https://localhost:8080/",
          "height": 269
        },
        "outputId": "d3b7e74c-213d-4a95-d7a8-3f13f01b1c3d"
      },
      "source": [
        "import matplotlib.pyplot as plt\n",
        "%matplotlib inline\n",
        "import matplotlib.image as mpimg\n",
        "img=plt.imshow(img)\n",
        "plt.show()\n"
      ],
      "execution_count": 23,
      "outputs": [
        {
          "output_type": "display_data",
          "data": {
            "image/png": "[encoded data removed]",
            "text/plain": [
              "<Figure size 432x288 with 1 Axes>"
            ]
          },
          "metadata": {
            "tags": [],
            "needs_background": "light"
          }
        }
      ]
    },
    {
      "cell_type": "code",
      "metadata": {
        "id": "NXCdKlcRHrmr",
        "colab_type": "code",
        "colab": {}
      },
      "source": [
        ""
      ],
      "execution_count": null,
      "outputs": []
    }
  ]
}